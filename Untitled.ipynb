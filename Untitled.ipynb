{
 "cells": [
  {
   "cell_type": "code",
   "execution_count": 1,
   "id": "3de695e5-f7c7-4585-a9ae-696bd709a45e",
   "metadata": {},
   "outputs": [],
   "source": [
    "import os\n",
    "import warnings\n",
    "import sys\n",
    "import git\n",
    "import pandas as pd\n",
    "import numpy as np\n",
    "from sklearn.metrics import mean_squared_error, mean_absolute_error, r2_score\n",
    "from sklearn.model_selection import train_test_split\n",
    "from sklearn.linear_model import ElasticNet\n",
    "from urllib.parse import urlparse\n",
    "import mlflow.sklearn\n",
    "import mlflow\n",
    "from mlflow.models.signature import infer_signature\n",
    "from mlflow.utils.mlflow_tags import MLFLOW_GIT_COMMIT, MLFLOW_SOURCE_TYPE, MLFLOW_GIT_BRANCH, MLFLOW_GIT_REPO_URL, MLFLOW_SOURCE_NAME"
   ]
  },
  {
   "cell_type": "code",
   "execution_count": 2,
   "id": "23b51687-4131-4c45-a01a-79b071c57289",
   "metadata": {},
   "outputs": [],
   "source": [
    "def eval_metrics(actual, pred):\n",
    "    rmse = np.sqrt(mean_squared_error(actual, pred))\n",
    "    mae = mean_absolute_error(actual, pred)\n",
    "    r2 = r2_score(actual, pred)\n",
    "    return rmse, mae, r2"
   ]
  },
  {
   "cell_type": "code",
   "execution_count": 3,
   "id": "3cf44d92-be8d-40f6-97fa-818011991892",
   "metadata": {},
   "outputs": [],
   "source": [
    "warnings.filterwarnings(\"ignore\")\n",
    "csv_url = (\n",
    "    \"http://archive.ics.uci.edu/ml/machine-learning-databases/wine-quality/winequality-red.csv\"\n",
    ")\n",
    "try:\n",
    "    data = pd.read_csv(csv_url, sep=\";\")\n",
    "except Exception as e:\n",
    "    print(\n",
    "        \"Unable to download training & test CSV, check your internet connection. Error: %s\", e\n",
    "    )"
   ]
  },
  {
   "cell_type": "code",
   "execution_count": 4,
   "id": "e51f6a5d-074a-4145-ac06-1cf083c59964",
   "metadata": {},
   "outputs": [],
   "source": [
    "#  Split the data into training and test sets. (0.75, 0.25) split.\n",
    "train, test = train_test_split(data)\n",
    "# The predicted column is \"quality\" which is a scalar from [3, 9]\n",
    "train_x = train.drop([\"quality\"], axis=1)\n",
    "test_x = test.drop([\"quality\"], axis=1)\n",
    "train_y = train[[\"quality\"]]\n",
    "test_y = test[[\"quality\"]]"
   ]
  },
  {
   "cell_type": "code",
   "execution_count": 5,
   "id": "05ad142c-0e00-4210-b302-d187df1182bb",
   "metadata": {},
   "outputs": [],
   "source": [
    "try :\n",
    "#     if we are using .py files then this block will work else you need to initialize it in except block\n",
    "    alpha = float(sys.argv[1]) if len(sys.argv) > 1 else 0.5\n",
    "    l1_ratio = float(sys.argv[2]) if len(sys.argv) > 2 else 0.5\n",
    "except:\n",
    "    alpha = 0.052\n",
    "    l1_ratio = 0.082"
   ]
  },
  {
   "cell_type": "code",
   "execution_count": 6,
   "id": "c01b9138-6035-46ee-91d5-a4172ae603d1",
   "metadata": {},
   "outputs": [],
   "source": [
    "mlflow.set_tracking_uri(\"http://172.0.1.81:5000\")"
   ]
  },
  {
   "cell_type": "code",
   "execution_count": 7,
   "id": "917d3784-28c6-4609-b460-9acf7dde9cbd",
   "metadata": {},
   "outputs": [],
   "source": [
    "repo = git.Repo()"
   ]
  },
  {
   "cell_type": "code",
   "execution_count": 8,
   "id": "1605d6f1-c41a-4ecd-b89b-417b661ef1a2",
   "metadata": {},
   "outputs": [
    {
     "name": "stdout",
     "output_type": "stream",
     "text": [
      "Elasticnet model (alpha=0.052000, l1_ratio=0.082000):\n",
      "  RMSE: 0.644435379579019\n",
      "  MAE: 0.5012686741453137\n",
      "  R2: 0.327889693391885\n"
     ]
    },
    {
     "name": "stderr",
     "output_type": "stream",
     "text": [
      "Registered model 'ElasticnetWineModel' already exists. Creating a new version of this model...\n",
      "2022/07/15 08:51:09 INFO mlflow.tracking._model_registry.client: Waiting up to 300 seconds for model version to finish creation.                     Model name: ElasticnetWineModel, version 5\n",
      "Created version '5' of model 'ElasticnetWineModel'.\n"
     ]
    }
   ],
   "source": [
    "with mlflow.start_run():\n",
    "    lr = ElasticNet(alpha=alpha, l1_ratio=l1_ratio, random_state=42)\n",
    "    lr.fit(train_x, train_y)\n",
    "\n",
    "    predicted_qualities = lr.predict(test_x)\n",
    "    signature = infer_signature(train_x, lr.predict(train_x))\n",
    "\n",
    "    (rmse, mae, r2) = eval_metrics(test_y, predicted_qualities)\n",
    "\n",
    "    print(\"Elasticnet model (alpha=%f, l1_ratio=%f):\" % (alpha, l1_ratio))\n",
    "    print(\"  RMSE: %s\" % rmse)\n",
    "    print(\"  MAE: %s\" % mae)\n",
    "    print(\"  R2: %s\" % r2)\n",
    "    mlflow.log_param(\"alpha\", alpha)\n",
    "    mlflow.log_param(\"l1_ratio\", l1_ratio)\n",
    "    mlflow.log_metric(\"rmse\", rmse)\n",
    "    mlflow.log_metric(\"r2\", r2)\n",
    "    mlflow.log_metric(\"mae\", mae)\n",
    "    tag = {MLFLOW_GIT_COMMIT: repo.head.commit, MLFLOW_SOURCE_TYPE:'PROJECT', \n",
    "           MLFLOW_GIT_BRANCH:repo.active_branch, MLFLOW_GIT_REPO_URL:\"https://github.com/j-arpit/ElasticNet.git\",\n",
    "          MLFLOW_SOURCE_NAME:repo.remotes.origin.url}\n",
    "    mlflow.set_tags(tag)\n",
    "\n",
    "    ##print(mlflow.get_tracking_uri()\n",
    "    \n",
    "    model_name = \"ElasticnetWineModel\"\n",
    "    mlflow.sklearn.log_model(lr, \"model\", registered_model_name=\"ElasticnetWineModel\", signature=signature)\n"
   ]
  },
  {
   "cell_type": "code",
   "execution_count": 1,
   "id": "1647fe37-209e-4f96-a4d3-56152aa2edce",
   "metadata": {},
   "outputs": [],
   "source": [
    "# commends"
   ]
  },
  {
   "cell_type": "code",
   "execution_count": null,
   "id": "2e1f3700-3121-44ae-9941-1a6338e8efd1",
   "metadata": {},
   "outputs": [],
   "source": []
  }
 ],
 "metadata": {
  "kernelspec": {
   "display_name": "Python 3 (ipykernel)",
   "language": "python",
   "name": "python3"
  },
  "language_info": {
   "codemirror_mode": {
    "name": "ipython",
    "version": 3
   },
   "file_extension": ".py",
   "mimetype": "text/x-python",
   "name": "python",
   "nbconvert_exporter": "python",
   "pygments_lexer": "ipython3",
   "version": "3.10.4"
  }
 },
 "nbformat": 4,
 "nbformat_minor": 5
}
